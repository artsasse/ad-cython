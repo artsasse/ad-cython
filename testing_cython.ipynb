{
 "cells": [
  {
   "cell_type": "code",
   "execution_count": 1,
   "id": "16e2e57c-eedf-461e-ad39-64a36799f473",
   "metadata": {},
   "outputs": [
    {
     "name": "stdout",
     "output_type": "stream",
     "text": [
      "arrival.client_id: 0\n",
      "arrival.t: 1.9696262810982375\n",
      "arrival.event_type: 1\n",
      "\n",
      "end_of_service.client_id: 1\n",
      "end_of_service.t: 11.418029246187283\n",
      "end_of_service.event_type: 0\n"
     ]
    }
   ],
   "source": [
    "from cython_functions import *"
   ]
  },
  {
   "cell_type": "code",
   "execution_count": 7,
   "id": "bf9ad8c1-ee93-4572-885c-486648013d66",
   "metadata": {},
   "outputs": [],
   "source": [
    "%load_ext line_profiler"
   ]
  },
  {
   "cell_type": "code",
   "execution_count": 5,
   "id": "e1d14f38-4d97-4568-aef6-dd331acce9e1",
   "metadata": {},
   "outputs": [
    {
     "name": "stdout",
     "output_type": "stream",
     "text": [
      "(a) Média de W\n",
      "Intervalo de Confiança: 0.248 a 0.251\n",
      "Precisão: 0.51%\n",
      "------------------\n",
      "(b) Variância de W - Chi-Square\n",
      "Intervalo de Confiança: 1.304 a 1.438\n",
      "Precisão: 4.90%\n",
      "------------------\n",
      "(b) Variância de W - t-Student\n",
      "Intervalo de Confiança: 0.554 a 0.565\n",
      "Precisão: 1.00%\n",
      "------------------\n",
      "(c) Média de Nq\n",
      "Intervalo de Confiança: 0.050 a 0.050\n",
      "Precisão: 0.55%\n",
      "------------------\n",
      "(d) Variância de Nq - Chi-Square\n",
      "Intervalo de Confiança: 0.061 a 0.067\n",
      "Precisão: 4.90%\n",
      "------------------\n",
      "(d) Variância de Nq - t-Student\n",
      "Intervalo de Confiança: 0.072 a 0.073\n",
      "Precisão: 0.88%\n"
     ]
    }
   ],
   "source": [
    "# TESTE\n",
    "random.seed(0)\n",
    "simulate(3200, 1000, FIFO, exp02, exp10, decimals=3, print_values=True)"
   ]
  },
  {
   "cell_type": "code",
   "execution_count": null,
   "id": "622aaa7a-de48-4721-89fe-d10b4eb5e47f",
   "metadata": {},
   "outputs": [],
   "source": [
    "df = get_time_var_table(0, 5000, FIFO)\n",
    "df.round(3)"
   ]
  },
  {
   "cell_type": "code",
   "execution_count": 12,
   "id": "ef02759d-34ec-4730-bb90-7e93c4f0b9dd",
   "metadata": {},
   "outputs": [
    {
     "name": "stdout",
     "output_type": "stream",
     "text": [
      "(a) Média de W\n",
      "Intervalo de Confiança: 0.899 a 0.900\n",
      "Precisão: 0.09%\n",
      "------------------\n",
      "(b) Variância de W - Chi-Square\n",
      "Intervalo de Confiança: 5.550 a 6.122\n",
      "Precisão: 4.90%\n",
      "------------------\n",
      "(b) Variância de W - t-Student\n",
      "Intervalo de Confiança: 0.985 a 0.989\n",
      "Precisão: 0.19%\n",
      "------------------\n",
      "(c) Média de Nq\n",
      "Intervalo de Confiança: 8.026 a 8.141\n",
      "Precisão: 0.71%\n",
      "------------------\n",
      "(d) Variância de Nq - Chi-Square\n",
      "Intervalo de Confiança: 26157.774 a 28851.875\n",
      "Precisão: 4.90%\n",
      "------------------\n",
      "(d) Variância de Nq - t-Student\n",
      "Intervalo de Confiança: 82.670 a 86.008\n",
      "Precisão: 1.98%\n"
     ]
    }
   ],
   "source": [
    "# TESTE\n",
    "random.seed(0)\n",
    "lean_simulate(3200, 10000, LIFO, exp09, exp10, decimals=3, print_values=True, transient_rounds=1000)"
   ]
  },
  {
   "cell_type": "code",
   "execution_count": null,
   "id": "cf822235-3aa0-46a6-80c9-359ac4647174",
   "metadata": {},
   "outputs": [],
   "source": []
  }
 ],
 "metadata": {
  "kernelspec": {
   "display_name": "Python 3 (ipykernel)",
   "language": "python",
   "name": "python3"
  },
  "language_info": {
   "codemirror_mode": {
    "name": "ipython",
    "version": 3
   },
   "file_extension": ".py",
   "mimetype": "text/x-python",
   "name": "python",
   "nbconvert_exporter": "python",
   "pygments_lexer": "ipython3",
   "version": "3.10.4"
  }
 },
 "nbformat": 4,
 "nbformat_minor": 5
}
